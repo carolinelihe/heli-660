{
 "cells": [
  {
   "cell_type": "code",
   "execution_count": 1,
   "metadata": {},
   "outputs": [
    {
     "name": "stderr",
     "output_type": "stream",
     "text": [
      "/anaconda3/lib/python3.6/site-packages/sklearn/cross_validation.py:41: DeprecationWarning: This module was deprecated in version 0.18 in favor of the model_selection module into which all the refactored classes and functions are moved. Also note that the interface of the new CV iterators are different from that of this module. This module will be removed in 0.20.\n",
      "  \"This module will be removed in 0.20.\", DeprecationWarning)\n",
      "/anaconda3/lib/python3.6/site-packages/sklearn/grid_search.py:42: DeprecationWarning: This module was deprecated in version 0.18 in favor of the model_selection module into which all the refactored classes and functions are moved. This module will be removed in 0.20.\n",
      "  DeprecationWarning)\n",
      "/anaconda3/lib/python3.6/site-packages/nltk/twitter/__init__.py:20: UserWarning: The twython library has not been installed. Some functionality from the twitter package will not be available.\n",
      "  warnings.warn(\"The twython library has not been installed. \"\n"
     ]
    }
   ],
   "source": [
    "import numpy as np\n",
    "import matplotlib.pyplot as plt\n",
    "import pandas as pd\n",
    "import re \n",
    "import itertools\n",
    "from sklearn.feature_extraction.text import CountVectorizer,TfidfVectorizer\n",
    "from nltk.stem.porter import PorterStemmer\n",
    "from nltk.corpus import stopwords\n",
    "from sklearn.grid_search import GridSearchCV\n",
    "from sklearn.metrics import classification_report\n",
    "from sklearn.model_selection import train_test_split, cross_val_score\n",
    "from sklearn.model_selection import GridSearchCV\n",
    "from sklearn.metrics import accuracy_score, confusion_matrix, f1_score\n",
    "from sklearn.model_selection import cross_validate\n",
    "from nltk import tokenize\n",
    "from nltk.sentiment.vader import SentimentIntensityAnalyzer"
   ]
  },
  {
   "cell_type": "code",
   "execution_count": 2,
   "metadata": {
    "collapsed": true
   },
   "outputs": [],
   "source": [
    "dataset = pd.read_json('reviews.json')"
   ]
  },
  {
   "cell_type": "code",
   "execution_count": 3,
   "metadata": {
    "collapsed": true
   },
   "outputs": [],
   "source": [
    "dataset.reviews = dataset.reviews_title.str.cat(dataset.reviews,sep='. ')"
   ]
  },
  {
   "cell_type": "code",
   "execution_count": 4,
   "metadata": {},
   "outputs": [
    {
     "data": {
      "text/html": [
       "<div>\n",
       "<style>\n",
       "    .dataframe thead tr:only-child th {\n",
       "        text-align: right;\n",
       "    }\n",
       "\n",
       "    .dataframe thead th {\n",
       "        text-align: left;\n",
       "    }\n",
       "\n",
       "    .dataframe tbody tr th {\n",
       "        vertical-align: top;\n",
       "    }\n",
       "</style>\n",
       "<table border=\"1\" class=\"dataframe\">\n",
       "  <thead>\n",
       "    <tr style=\"text-align: right;\">\n",
       "      <th></th>\n",
       "      <th>Date</th>\n",
       "      <th>name</th>\n",
       "      <th>rating</th>\n",
       "      <th>reviews</th>\n",
       "      <th>reviews_title</th>\n",
       "    </tr>\n",
       "  </thead>\n",
       "  <tbody>\n",
       "    <tr>\n",
       "      <th>0</th>\n",
       "      <td>2018-04-21</td>\n",
       "      <td>Gregory E. Howard</td>\n",
       "      <td>5</td>\n",
       "      <td>offer a light easily bright enough for the guy...</td>\n",
       "      <td>offer a light easily bright enough for the guy...</td>\n",
       "    </tr>\n",
       "    <tr>\n",
       "      <th>1</th>\n",
       "      <td>2018-04-20</td>\n",
       "      <td>Sue</td>\n",
       "      <td>5</td>\n",
       "      <td>Dependable. It's a great bright LED light.  Pe...</td>\n",
       "      <td>Dependable</td>\n",
       "    </tr>\n",
       "    <tr>\n",
       "      <th>10</th>\n",
       "      <td>2018-04-16</td>\n",
       "      <td>Courtney</td>\n",
       "      <td>5</td>\n",
       "      <td>Bright, but eats batteries. Very bright, I wor...</td>\n",
       "      <td>Bright, but eats batteries</td>\n",
       "    </tr>\n",
       "    <tr>\n",
       "      <th>100</th>\n",
       "      <td>2018-04-03</td>\n",
       "      <td>Richard S.</td>\n",
       "      <td>2</td>\n",
       "      <td>NOT 300 LUMENS. Overall it is well built for t...</td>\n",
       "      <td>NOT 300 LUMENS</td>\n",
       "    </tr>\n",
       "    <tr>\n",
       "      <th>101</th>\n",
       "      <td>2018-04-03</td>\n",
       "      <td>cb</td>\n",
       "      <td>5</td>\n",
       "      <td>brite lite. awesome  little  lights</td>\n",
       "      <td>brite lite</td>\n",
       "    </tr>\n",
       "    <tr>\n",
       "      <th>102</th>\n",
       "      <td>2018-04-03</td>\n",
       "      <td>COLLAGENIKOV. JOHN M. PRESCOTT</td>\n",
       "      <td>5</td>\n",
       "      <td>2 items. So very very cheap.BUY NOW.  IT'S LIK...</td>\n",
       "      <td>2 items. So very very cheap.BUY NOW.  IT'S LIK...</td>\n",
       "    </tr>\n",
       "    <tr>\n",
       "      <th>103</th>\n",
       "      <td>2018-04-03</td>\n",
       "      <td>Sabine A.</td>\n",
       "      <td>2</td>\n",
       "      <td>One of the two flashlights works, one doesn't....</td>\n",
       "      <td>One of the two flashlights works, one doesn't.</td>\n",
       "    </tr>\n",
       "    <tr>\n",
       "      <th>104</th>\n",
       "      <td>2018-04-03</td>\n",
       "      <td>Deb Mino</td>\n",
       "      <td>5</td>\n",
       "      <td>Great little gadget. Very practical flashlight...</td>\n",
       "      <td>Great little gadget</td>\n",
       "    </tr>\n",
       "    <tr>\n",
       "      <th>105</th>\n",
       "      <td>2018-04-03</td>\n",
       "      <td>Ryan Shi</td>\n",
       "      <td>5</td>\n",
       "      <td>good quality, bright enough. small in size, go...</td>\n",
       "      <td>good quality, bright enough</td>\n",
       "    </tr>\n",
       "    <tr>\n",
       "      <th>106</th>\n",
       "      <td>2018-04-03</td>\n",
       "      <td>Fran Dux</td>\n",
       "      <td>2</td>\n",
       "      <td>I do not recommend this flashlight. The zoom d...</td>\n",
       "      <td>I do not recommend this flashlight</td>\n",
       "    </tr>\n",
       "    <tr>\n",
       "      <th>107</th>\n",
       "      <td>2018-04-02</td>\n",
       "      <td>CHENGCHEN</td>\n",
       "      <td>5</td>\n",
       "      <td>Five Stars. These were great and worth every p...</td>\n",
       "      <td>Five Stars</td>\n",
       "    </tr>\n",
       "    <tr>\n",
       "      <th>108</th>\n",
       "      <td>2018-03-31</td>\n",
       "      <td>Cindy</td>\n",
       "      <td>5</td>\n",
       "      <td>This is a great mini flashlights. This is a gr...</td>\n",
       "      <td>This is a great mini flashlights</td>\n",
       "    </tr>\n",
       "    <tr>\n",
       "      <th>109</th>\n",
       "      <td>2018-03-31</td>\n",
       "      <td>Andrew</td>\n",
       "      <td>5</td>\n",
       "      <td>Love it. Small. Little cute flesh lights! Love...</td>\n",
       "      <td>Love it. Small</td>\n",
       "    </tr>\n",
       "    <tr>\n",
       "      <th>11</th>\n",
       "      <td>2018-04-16</td>\n",
       "      <td>GREGORY TEEUWEN</td>\n",
       "      <td>4</td>\n",
       "      <td>They work pretty good. Didn't blow me away. Th...</td>\n",
       "      <td>They work pretty good. Didn't blow me away</td>\n",
       "    </tr>\n",
       "    <tr>\n",
       "      <th>110</th>\n",
       "      <td>2018-03-30</td>\n",
       "      <td>Harbinger of books</td>\n",
       "      <td>4</td>\n",
       "      <td>Great value. This is a small compact flashligh...</td>\n",
       "      <td>Great value</td>\n",
       "    </tr>\n",
       "    <tr>\n",
       "      <th>111</th>\n",
       "      <td>2018-03-28</td>\n",
       "      <td>QW</td>\n",
       "      <td>5</td>\n",
       "      <td>Great flashlight, runs on AA batteries. The fl...</td>\n",
       "      <td>Great flashlight, runs on AA batteries</td>\n",
       "    </tr>\n",
       "    <tr>\n",
       "      <th>112</th>\n",
       "      <td>2018-03-28</td>\n",
       "      <td>Lisa12138</td>\n",
       "      <td>5</td>\n",
       "      <td>Great product!!!!!!. Love it. So useful when I...</td>\n",
       "      <td>Great product!!!!!!</td>\n",
       "    </tr>\n",
       "    <tr>\n",
       "      <th>113</th>\n",
       "      <td>2018-03-28</td>\n",
       "      <td>Suki</td>\n",
       "      <td>5</td>\n",
       "      <td>Good on batteries. These came in handy during ...</td>\n",
       "      <td>Good on batteries</td>\n",
       "    </tr>\n",
       "    <tr>\n",
       "      <th>114</th>\n",
       "      <td>2018-03-28</td>\n",
       "      <td>Summy</td>\n",
       "      <td>5</td>\n",
       "      <td>This flashlight is super bright. I can have my...</td>\n",
       "      <td>This flashlight is super bright. I can have my...</td>\n",
       "    </tr>\n",
       "    <tr>\n",
       "      <th>115</th>\n",
       "      <td>2018-03-27</td>\n",
       "      <td>Shelly</td>\n",
       "      <td>5</td>\n",
       "      <td>easy to carry around. Small and exquisite, eas...</td>\n",
       "      <td>easy to carry around</td>\n",
       "    </tr>\n",
       "    <tr>\n",
       "      <th>116</th>\n",
       "      <td>2018-03-26</td>\n",
       "      <td>Edward Chen</td>\n",
       "      <td>5</td>\n",
       "      <td>super easy to carry. Ultra-convenient and comp...</td>\n",
       "      <td>super easy to carry</td>\n",
       "    </tr>\n",
       "    <tr>\n",
       "      <th>117</th>\n",
       "      <td>2018-03-25</td>\n",
       "      <td>Amazon Customer</td>\n",
       "      <td>5</td>\n",
       "      <td>A perfect flashlight, it’s easy to carry. A pe...</td>\n",
       "      <td>A perfect flashlight, it’s easy to carry</td>\n",
       "    </tr>\n",
       "    <tr>\n",
       "      <th>118</th>\n",
       "      <td>2018-03-25</td>\n",
       "      <td>a.miller</td>\n",
       "      <td>4</td>\n",
       "      <td>Four Stars. you get what pay for</td>\n",
       "      <td>Four Stars</td>\n",
       "    </tr>\n",
       "    <tr>\n",
       "      <th>119</th>\n",
       "      <td>2018-03-21</td>\n",
       "      <td>Derek</td>\n",
       "      <td>5</td>\n",
       "      <td>Zoom feature is great!. I own several smaller ...</td>\n",
       "      <td>Zoom feature is great!</td>\n",
       "    </tr>\n",
       "    <tr>\n",
       "      <th>12</th>\n",
       "      <td>2018-04-16</td>\n",
       "      <td>Blaqirishman</td>\n",
       "      <td>4</td>\n",
       "      <td>Four Stars. I will only say for now so far so ...</td>\n",
       "      <td>Four Stars</td>\n",
       "    </tr>\n",
       "    <tr>\n",
       "      <th>120</th>\n",
       "      <td>2018-03-20</td>\n",
       "      <td>Amazon Customer</td>\n",
       "      <td>5</td>\n",
       "      <td>Five Stars. These small LED flashlights are wo...</td>\n",
       "      <td>Five Stars</td>\n",
       "    </tr>\n",
       "    <tr>\n",
       "      <th>121</th>\n",
       "      <td>2018-03-19</td>\n",
       "      <td>Edward L Thacker</td>\n",
       "      <td>4</td>\n",
       "      <td>Bright lights. Nice bright lights. You get wha...</td>\n",
       "      <td>Bright lights</td>\n",
       "    </tr>\n",
       "    <tr>\n",
       "      <th>122</th>\n",
       "      <td>2018-03-18</td>\n",
       "      <td>William Vuzzo</td>\n",
       "      <td>5</td>\n",
       "      <td>Five Stars. These are great for work. Get the ...</td>\n",
       "      <td>Five Stars</td>\n",
       "    </tr>\n",
       "    <tr>\n",
       "      <th>123</th>\n",
       "      <td>2018-03-17</td>\n",
       "      <td>Harris</td>\n",
       "      <td>5</td>\n",
       "      <td>These flashlights are so valuable and they are...</td>\n",
       "      <td>These flashlights are so valuable and they are...</td>\n",
       "    </tr>\n",
       "    <tr>\n",
       "      <th>124</th>\n",
       "      <td>2018-03-17</td>\n",
       "      <td>Daniel Avina</td>\n",
       "      <td>1</td>\n",
       "      <td>one works the ot doesnt. 1 works fine .  the o...</td>\n",
       "      <td>one works the ot doesnt</td>\n",
       "    </tr>\n",
       "    <tr>\n",
       "      <th>...</th>\n",
       "      <td>...</td>\n",
       "      <td>...</td>\n",
       "      <td>...</td>\n",
       "      <td>...</td>\n",
       "      <td>...</td>\n",
       "    </tr>\n",
       "    <tr>\n",
       "      <th>786</th>\n",
       "      <td>2017-04-10</td>\n",
       "      <td>Heather</td>\n",
       "      <td>5</td>\n",
       "      <td>Good buy.. I got these for my older sons. They...</td>\n",
       "      <td>Good buy.</td>\n",
       "    </tr>\n",
       "    <tr>\n",
       "      <th>787</th>\n",
       "      <td>2017-04-10</td>\n",
       "      <td>dee burdick-desanti</td>\n",
       "      <td>5</td>\n",
       "      <td>Great item to have. Great item to have. They a...</td>\n",
       "      <td>Great item to have</td>\n",
       "    </tr>\n",
       "    <tr>\n",
       "      <th>788</th>\n",
       "      <td>2017-04-09</td>\n",
       "      <td>Will's Review</td>\n",
       "      <td>5</td>\n",
       "      <td>Super Bright and very high quality tactical fl...</td>\n",
       "      <td>Super Bright and very high quality tactical fl...</td>\n",
       "    </tr>\n",
       "    <tr>\n",
       "      <th>789</th>\n",
       "      <td>2017-04-08</td>\n",
       "      <td>jmbillet</td>\n",
       "      <td>5</td>\n",
       "      <td>I really like that you can pin point the light...</td>\n",
       "      <td>I really like that you can pin point the light...</td>\n",
       "    </tr>\n",
       "    <tr>\n",
       "      <th>79</th>\n",
       "      <td>2018-04-06</td>\n",
       "      <td>MW</td>\n",
       "      <td>5</td>\n",
       "      <td>Cute and bright flashlight. It’s tiny cute fla...</td>\n",
       "      <td>Cute and bright flashlight</td>\n",
       "    </tr>\n",
       "    <tr>\n",
       "      <th>790</th>\n",
       "      <td>2017-04-07</td>\n",
       "      <td>Regina Castaneda</td>\n",
       "      <td>5</td>\n",
       "      <td>Five Stars. I really like this product. They a...</td>\n",
       "      <td>Five Stars</td>\n",
       "    </tr>\n",
       "    <tr>\n",
       "      <th>791</th>\n",
       "      <td>2017-04-07</td>\n",
       "      <td>Minnchic</td>\n",
       "      <td>5</td>\n",
       "      <td>Great Flashlights in a small package. Don't be...</td>\n",
       "      <td>Great Flashlights in a small package</td>\n",
       "    </tr>\n",
       "    <tr>\n",
       "      <th>792</th>\n",
       "      <td>2017-04-07</td>\n",
       "      <td>Mr.Charles B. keiper</td>\n",
       "      <td>5</td>\n",
       "      <td>Five Stars. I really like this item..Very ligh...</td>\n",
       "      <td>Five Stars</td>\n",
       "    </tr>\n",
       "    <tr>\n",
       "      <th>8</th>\n",
       "      <td>2018-04-17</td>\n",
       "      <td>David M. Groce</td>\n",
       "      <td>5</td>\n",
       "      <td>suit perfect for kids. They are very mini flas...</td>\n",
       "      <td>suit perfect for kids</td>\n",
       "    </tr>\n",
       "    <tr>\n",
       "      <th>80</th>\n",
       "      <td>2018-04-06</td>\n",
       "      <td>Nicholas Kisling</td>\n",
       "      <td>4</td>\n",
       "      <td>Better than I was expecting for the price and ...</td>\n",
       "      <td>Better than I was expecting for the price and ...</td>\n",
       "    </tr>\n",
       "    <tr>\n",
       "      <th>81</th>\n",
       "      <td>2018-04-06</td>\n",
       "      <td>Jing Zhang</td>\n",
       "      <td>5</td>\n",
       "      <td>under closet repair and kids love it for haunt...</td>\n",
       "      <td>under closet repair and kids love it for haunt...</td>\n",
       "    </tr>\n",
       "    <tr>\n",
       "      <th>82</th>\n",
       "      <td>2018-04-06</td>\n",
       "      <td>Amazon Customer</td>\n",
       "      <td>3</td>\n",
       "      <td>Three Stars. One of the flashlights switch doe...</td>\n",
       "      <td>Three Stars</td>\n",
       "    </tr>\n",
       "    <tr>\n",
       "      <th>83</th>\n",
       "      <td>2018-04-06</td>\n",
       "      <td>Obafemi</td>\n",
       "      <td>5</td>\n",
       "      <td>Five Stars. They are working good. I love it!</td>\n",
       "      <td>Five Stars</td>\n",
       "    </tr>\n",
       "    <tr>\n",
       "      <th>84</th>\n",
       "      <td>2018-04-05</td>\n",
       "      <td>jon asri</td>\n",
       "      <td>1</td>\n",
       "      <td>One Star. DOA and this item is not eligible fo...</td>\n",
       "      <td>One Star</td>\n",
       "    </tr>\n",
       "    <tr>\n",
       "      <th>85</th>\n",
       "      <td>2018-04-05</td>\n",
       "      <td>Terry</td>\n",
       "      <td>3</td>\n",
       "      <td>One of mine had a bad switch.. They aren't bad...</td>\n",
       "      <td>One of mine had a bad switch.</td>\n",
       "    </tr>\n",
       "    <tr>\n",
       "      <th>86</th>\n",
       "      <td>2018-04-05</td>\n",
       "      <td>Marlies Fitch Ledbetter</td>\n",
       "      <td>1</td>\n",
       "      <td>Total waste of money. Can’t even get a battery...</td>\n",
       "      <td>Total waste of money</td>\n",
       "    </tr>\n",
       "    <tr>\n",
       "      <th>87</th>\n",
       "      <td>2018-04-05</td>\n",
       "      <td>Mikki - Student</td>\n",
       "      <td>1</td>\n",
       "      <td>Waste of my money. 1 of the 2 flashlights work...</td>\n",
       "      <td>Waste of my money</td>\n",
       "    </tr>\n",
       "    <tr>\n",
       "      <th>88</th>\n",
       "      <td>2018-04-05</td>\n",
       "      <td>BH</td>\n",
       "      <td>5</td>\n",
       "      <td>Five Stars. It's compact, lightweight, focusab...</td>\n",
       "      <td>Five Stars</td>\n",
       "    </tr>\n",
       "    <tr>\n",
       "      <th>89</th>\n",
       "      <td>2018-04-04</td>\n",
       "      <td>J. Madsen</td>\n",
       "      <td>5</td>\n",
       "      <td>Five Stars. Really bright for the size one aa ...</td>\n",
       "      <td>Five Stars</td>\n",
       "    </tr>\n",
       "    <tr>\n",
       "      <th>9</th>\n",
       "      <td>2018-04-17</td>\n",
       "      <td>Alexander Cable</td>\n",
       "      <td>5</td>\n",
       "      <td>It isn't very bright but it's small and will e...</td>\n",
       "      <td>It isn't very bright but it's small and will e...</td>\n",
       "    </tr>\n",
       "    <tr>\n",
       "      <th>90</th>\n",
       "      <td>2018-04-04</td>\n",
       "      <td>Diana R. Ortega</td>\n",
       "      <td>3</td>\n",
       "      <td>Ity bitty. They're very small, but work well f...</td>\n",
       "      <td>Ity bitty</td>\n",
       "    </tr>\n",
       "    <tr>\n",
       "      <th>91</th>\n",
       "      <td>2018-04-04</td>\n",
       "      <td>loudheart</td>\n",
       "      <td>2</td>\n",
       "      <td>Two Stars. It's okay.</td>\n",
       "      <td>Two Stars</td>\n",
       "    </tr>\n",
       "    <tr>\n",
       "      <th>92</th>\n",
       "      <td>2018-04-04</td>\n",
       "      <td>Cliente de Amazon</td>\n",
       "      <td>5</td>\n",
       "      <td>Muy bueno.. Muy bueno.</td>\n",
       "      <td>Muy bueno.</td>\n",
       "    </tr>\n",
       "    <tr>\n",
       "      <th>93</th>\n",
       "      <td>2018-04-04</td>\n",
       "      <td>ME</td>\n",
       "      <td>3</td>\n",
       "      <td>Hit and Miss. Of the two, one worked perfectly...</td>\n",
       "      <td>Hit and Miss</td>\n",
       "    </tr>\n",
       "    <tr>\n",
       "      <th>94</th>\n",
       "      <td>2018-04-04</td>\n",
       "      <td>Tami Jones</td>\n",
       "      <td>2</td>\n",
       "      <td>One of the two lights I received does not work...</td>\n",
       "      <td>One of the two lights I received does not work...</td>\n",
       "    </tr>\n",
       "    <tr>\n",
       "      <th>95</th>\n",
       "      <td>2018-04-04</td>\n",
       "      <td>Antwane Robinson</td>\n",
       "      <td>1</td>\n",
       "      <td>Flashlight cop material. Ok for  a kid</td>\n",
       "      <td>Flashlight cop material</td>\n",
       "    </tr>\n",
       "    <tr>\n",
       "      <th>96</th>\n",
       "      <td>2018-04-04</td>\n",
       "      <td>floyd morris</td>\n",
       "      <td>5</td>\n",
       "      <td>Five Stars. Good little flash light.</td>\n",
       "      <td>Five Stars</td>\n",
       "    </tr>\n",
       "    <tr>\n",
       "      <th>97</th>\n",
       "      <td>2018-04-04</td>\n",
       "      <td>Amazon Customer</td>\n",
       "      <td>1</td>\n",
       "      <td>0/2 working flashlights.  complete garbage.. S...</td>\n",
       "      <td>0/2 working flashlights.  complete garbage.</td>\n",
       "    </tr>\n",
       "    <tr>\n",
       "      <th>98</th>\n",
       "      <td>2018-04-04</td>\n",
       "      <td>Amazon Customer</td>\n",
       "      <td>5</td>\n",
       "      <td>Five Stars. Very small and very good quality, ...</td>\n",
       "      <td>Five Stars</td>\n",
       "    </tr>\n",
       "    <tr>\n",
       "      <th>99</th>\n",
       "      <td>2018-04-03</td>\n",
       "      <td>Ignacio Gonzales</td>\n",
       "      <td>5</td>\n",
       "      <td>Five Stars. Very great LED flashlights for las...</td>\n",
       "      <td>Five Stars</td>\n",
       "    </tr>\n",
       "  </tbody>\n",
       "</table>\n",
       "<p>793 rows × 5 columns</p>\n",
       "</div>"
      ],
      "text/plain": [
       "          Date                            name  rating  \\\n",
       "0   2018-04-21               Gregory E. Howard       5   \n",
       "1   2018-04-20                             Sue       5   \n",
       "10  2018-04-16                        Courtney       5   \n",
       "100 2018-04-03                      Richard S.       2   \n",
       "101 2018-04-03                              cb       5   \n",
       "102 2018-04-03  COLLAGENIKOV. JOHN M. PRESCOTT       5   \n",
       "103 2018-04-03                       Sabine A.       2   \n",
       "104 2018-04-03                        Deb Mino       5   \n",
       "105 2018-04-03                        Ryan Shi       5   \n",
       "106 2018-04-03                        Fran Dux       2   \n",
       "107 2018-04-02                       CHENGCHEN       5   \n",
       "108 2018-03-31                          Cindy        5   \n",
       "109 2018-03-31                          Andrew       5   \n",
       "11  2018-04-16                 GREGORY TEEUWEN       4   \n",
       "110 2018-03-30              Harbinger of books       4   \n",
       "111 2018-03-28                              QW       5   \n",
       "112 2018-03-28                       Lisa12138       5   \n",
       "113 2018-03-28                            Suki       5   \n",
       "114 2018-03-28                           Summy       5   \n",
       "115 2018-03-27                          Shelly       5   \n",
       "116 2018-03-26                     Edward Chen       5   \n",
       "117 2018-03-25                 Amazon Customer       5   \n",
       "118 2018-03-25                        a.miller       4   \n",
       "119 2018-03-21                           Derek       5   \n",
       "12  2018-04-16                    Blaqirishman       4   \n",
       "120 2018-03-20                 Amazon Customer       5   \n",
       "121 2018-03-19                Edward L Thacker       4   \n",
       "122 2018-03-18                   William Vuzzo       5   \n",
       "123 2018-03-17                          Harris       5   \n",
       "124 2018-03-17                    Daniel Avina       1   \n",
       "..         ...                             ...     ...   \n",
       "786 2017-04-10                         Heather       5   \n",
       "787 2017-04-10             dee burdick-desanti       5   \n",
       "788 2017-04-09                   Will's Review       5   \n",
       "789 2017-04-08                        jmbillet       5   \n",
       "79  2018-04-06                              MW       5   \n",
       "790 2017-04-07                Regina Castaneda       5   \n",
       "791 2017-04-07                        Minnchic       5   \n",
       "792 2017-04-07            Mr.Charles B. keiper       5   \n",
       "8   2018-04-17                  David M. Groce       5   \n",
       "80  2018-04-06                Nicholas Kisling       4   \n",
       "81  2018-04-06                      Jing Zhang       5   \n",
       "82  2018-04-06                 Amazon Customer       3   \n",
       "83  2018-04-06                        Obafemi        5   \n",
       "84  2018-04-05                        jon asri       1   \n",
       "85  2018-04-05                           Terry       3   \n",
       "86  2018-04-05         Marlies Fitch Ledbetter       1   \n",
       "87  2018-04-05                 Mikki - Student       1   \n",
       "88  2018-04-05                              BH       5   \n",
       "89  2018-04-04                       J. Madsen       5   \n",
       "9   2018-04-17                 Alexander Cable       5   \n",
       "90  2018-04-04                 Diana R. Ortega       3   \n",
       "91  2018-04-04                       loudheart       2   \n",
       "92  2018-04-04               Cliente de Amazon       5   \n",
       "93  2018-04-04                              ME       3   \n",
       "94  2018-04-04                      Tami Jones       2   \n",
       "95  2018-04-04                Antwane Robinson       1   \n",
       "96  2018-04-04                    floyd morris       5   \n",
       "97  2018-04-04                 Amazon Customer       1   \n",
       "98  2018-04-04                 Amazon Customer       5   \n",
       "99  2018-04-03                Ignacio Gonzales       5   \n",
       "\n",
       "                                               reviews  \\\n",
       "0    offer a light easily bright enough for the guy...   \n",
       "1    Dependable. It's a great bright LED light.  Pe...   \n",
       "10   Bright, but eats batteries. Very bright, I wor...   \n",
       "100  NOT 300 LUMENS. Overall it is well built for t...   \n",
       "101                brite lite. awesome  little  lights   \n",
       "102  2 items. So very very cheap.BUY NOW.  IT'S LIK...   \n",
       "103  One of the two flashlights works, one doesn't....   \n",
       "104  Great little gadget. Very practical flashlight...   \n",
       "105  good quality, bright enough. small in size, go...   \n",
       "106  I do not recommend this flashlight. The zoom d...   \n",
       "107  Five Stars. These were great and worth every p...   \n",
       "108  This is a great mini flashlights. This is a gr...   \n",
       "109  Love it. Small. Little cute flesh lights! Love...   \n",
       "11   They work pretty good. Didn't blow me away. Th...   \n",
       "110  Great value. This is a small compact flashligh...   \n",
       "111  Great flashlight, runs on AA batteries. The fl...   \n",
       "112  Great product!!!!!!. Love it. So useful when I...   \n",
       "113  Good on batteries. These came in handy during ...   \n",
       "114  This flashlight is super bright. I can have my...   \n",
       "115  easy to carry around. Small and exquisite, eas...   \n",
       "116  super easy to carry. Ultra-convenient and comp...   \n",
       "117  A perfect flashlight, it’s easy to carry. A pe...   \n",
       "118                   Four Stars. you get what pay for   \n",
       "119  Zoom feature is great!. I own several smaller ...   \n",
       "12   Four Stars. I will only say for now so far so ...   \n",
       "120  Five Stars. These small LED flashlights are wo...   \n",
       "121  Bright lights. Nice bright lights. You get wha...   \n",
       "122  Five Stars. These are great for work. Get the ...   \n",
       "123  These flashlights are so valuable and they are...   \n",
       "124  one works the ot doesnt. 1 works fine .  the o...   \n",
       "..                                                 ...   \n",
       "786  Good buy.. I got these for my older sons. They...   \n",
       "787  Great item to have. Great item to have. They a...   \n",
       "788  Super Bright and very high quality tactical fl...   \n",
       "789  I really like that you can pin point the light...   \n",
       "79   Cute and bright flashlight. It’s tiny cute fla...   \n",
       "790  Five Stars. I really like this product. They a...   \n",
       "791  Great Flashlights in a small package. Don't be...   \n",
       "792  Five Stars. I really like this item..Very ligh...   \n",
       "8    suit perfect for kids. They are very mini flas...   \n",
       "80   Better than I was expecting for the price and ...   \n",
       "81   under closet repair and kids love it for haunt...   \n",
       "82   Three Stars. One of the flashlights switch doe...   \n",
       "83       Five Stars. They are working good. I love it!   \n",
       "84   One Star. DOA and this item is not eligible fo...   \n",
       "85   One of mine had a bad switch.. They aren't bad...   \n",
       "86   Total waste of money. Can’t even get a battery...   \n",
       "87   Waste of my money. 1 of the 2 flashlights work...   \n",
       "88   Five Stars. It's compact, lightweight, focusab...   \n",
       "89   Five Stars. Really bright for the size one aa ...   \n",
       "9    It isn't very bright but it's small and will e...   \n",
       "90   Ity bitty. They're very small, but work well f...   \n",
       "91                               Two Stars. It's okay.   \n",
       "92                              Muy bueno.. Muy bueno.   \n",
       "93   Hit and Miss. Of the two, one worked perfectly...   \n",
       "94   One of the two lights I received does not work...   \n",
       "95              Flashlight cop material. Ok for  a kid   \n",
       "96                Five Stars. Good little flash light.   \n",
       "97   0/2 working flashlights.  complete garbage.. S...   \n",
       "98   Five Stars. Very small and very good quality, ...   \n",
       "99   Five Stars. Very great LED flashlights for las...   \n",
       "\n",
       "                                         reviews_title  \n",
       "0    offer a light easily bright enough for the guy...  \n",
       "1                                           Dependable  \n",
       "10                          Bright, but eats batteries  \n",
       "100                                     NOT 300 LUMENS  \n",
       "101                                         brite lite  \n",
       "102  2 items. So very very cheap.BUY NOW.  IT'S LIK...  \n",
       "103     One of the two flashlights works, one doesn't.  \n",
       "104                                Great little gadget  \n",
       "105                        good quality, bright enough  \n",
       "106                 I do not recommend this flashlight  \n",
       "107                                         Five Stars  \n",
       "108                   This is a great mini flashlights  \n",
       "109                                     Love it. Small  \n",
       "11          They work pretty good. Didn't blow me away  \n",
       "110                                        Great value  \n",
       "111             Great flashlight, runs on AA batteries  \n",
       "112                                Great product!!!!!!  \n",
       "113                                  Good on batteries  \n",
       "114  This flashlight is super bright. I can have my...  \n",
       "115                               easy to carry around  \n",
       "116                                super easy to carry  \n",
       "117           A perfect flashlight, it’s easy to carry  \n",
       "118                                         Four Stars  \n",
       "119                             Zoom feature is great!  \n",
       "12                                          Four Stars  \n",
       "120                                         Five Stars  \n",
       "121                                      Bright lights  \n",
       "122                                         Five Stars  \n",
       "123  These flashlights are so valuable and they are...  \n",
       "124                            one works the ot doesnt  \n",
       "..                                                 ...  \n",
       "786                                          Good buy.  \n",
       "787                                 Great item to have  \n",
       "788  Super Bright and very high quality tactical fl...  \n",
       "789  I really like that you can pin point the light...  \n",
       "79                          Cute and bright flashlight  \n",
       "790                                         Five Stars  \n",
       "791               Great Flashlights in a small package  \n",
       "792                                         Five Stars  \n",
       "8                                suit perfect for kids  \n",
       "80   Better than I was expecting for the price and ...  \n",
       "81   under closet repair and kids love it for haunt...  \n",
       "82                                         Three Stars  \n",
       "83                                          Five Stars  \n",
       "84                                            One Star  \n",
       "85                       One of mine had a bad switch.  \n",
       "86                                Total waste of money  \n",
       "87                                   Waste of my money  \n",
       "88                                          Five Stars  \n",
       "89                                          Five Stars  \n",
       "9    It isn't very bright but it's small and will e...  \n",
       "90                                           Ity bitty  \n",
       "91                                           Two Stars  \n",
       "92                                          Muy bueno.  \n",
       "93                                        Hit and Miss  \n",
       "94   One of the two lights I received does not work...  \n",
       "95                             Flashlight cop material  \n",
       "96                                          Five Stars  \n",
       "97         0/2 working flashlights.  complete garbage.  \n",
       "98                                          Five Stars  \n",
       "99                                          Five Stars  \n",
       "\n",
       "[793 rows x 5 columns]"
      ]
     },
     "execution_count": 4,
     "metadata": {},
     "output_type": "execute_result"
    }
   ],
   "source": [
    "dataset"
   ]
  },
  {
   "cell_type": "code",
   "execution_count": 10,
   "metadata": {
    "collapsed": true
   },
   "outputs": [],
   "source": [
    "reviews= dataset['reviews']\n",
    "reviews_title = dataset['reviews_title']\n",
    "rating = dataset['rating']\n",
    "date = dataset['Date']"
   ]
  },
  {
   "cell_type": "code",
   "execution_count": 6,
   "metadata": {},
   "outputs": [
    {
     "data": {
      "image/png": "[encoded data removed]",
      "text/plain": [
       "<matplotlib.figure.Figure at 0x10f4e2be0>"
      ]
     },
     "metadata": {},
     "output_type": "display_data"
    }
   ],
   "source": [
    "review_lengths = reviews.apply(lambda r: len(r))\n",
    "review_lengths.describe()\n",
    "review_lengths.plot(kind='kde', logx=True)\n",
    "plt.show()"
   ]
  },
  {
   "cell_type": "code",
   "execution_count": 11,
   "metadata": {},
   "outputs": [
    {
     "data": {
      "image/png": "[encoded data removed]",
      "text/plain": [
       "<matplotlib.figure.Figure at 0x1a18c69fd0>"
      ]
     },
     "metadata": {},
     "output_type": "display_data"
    }
   ],
   "source": [
    "df3 = pd.DataFrame(rating)\n",
    "reviews_title_rating = df3.plot(kind = 'kde')\n",
    "plt.show()"
   ]
  },
  {
   "cell_type": "code",
   "execution_count": 9,
   "metadata": {},
   "outputs": [
    {
     "name": "stdout",
     "output_type": "stream",
     "text": [
      "[nltk_data] Downloading package stopwords to /Users/heli/nltk_data...\n",
      "[nltk_data]   Package stopwords is already up-to-date!\n"
     ]
    },
    {
     "data": {
      "text/plain": [
       "True"
      ]
     },
     "execution_count": 9,
     "metadata": {},
     "output_type": "execute_result"
    }
   ],
   "source": [
    "import nltk\n",
    "nltk.download('stopwords')"
   ]
  },
  {
   "cell_type": "markdown",
   "metadata": {},
   "source": [
    "### clean words ###"
   ]
  },
  {
   "cell_type": "code",
   "execution_count": 10,
   "metadata": {
    "collapsed": true
   },
   "outputs": [],
   "source": [
    "clean_review = []\n",
    "for i in range(0, 793):\n",
    "    review = re.sub('[^a-zA-Z]', ' ', dataset['reviews'][i])\n",
    "\n",
    "    review = review.lower()\n",
    "\n",
    "    review = review.split()\n",
    "\n",
    "    ps = PorterStemmer()\n",
    "    review = [ps.stem(word) for word in review if not word in set(stopwords.words('english'))]\n",
    "    review = ' '.join(review)\n",
    "    clean_review.append(review) "
   ]
  },
  {
   "cell_type": "code",
   "execution_count": 11,
   "metadata": {
    "collapsed": true
   },
   "outputs": [],
   "source": [
    "clean_review = clean_review"
   ]
  },
  {
   "cell_type": "code",
   "execution_count": 12,
   "metadata": {
    "collapsed": true
   },
   "outputs": [],
   "source": [
    "cv = CountVectorizer()\n",
    "cv_x = cv.fit_transform(clean_review).toarray()"
   ]
  },
  {
   "cell_type": "markdown",
   "metadata": {},
   "source": [
    "### bag of words ###"
   ]
  },
  {
   "cell_type": "code",
   "execution_count": 13,
   "metadata": {
    "collapsed": true
   },
   "outputs": [],
   "source": [
    "cv = CountVectorizer(max_features = 1600)\n",
    "x = cv.fit_transform(clean_review).toarray()\n",
    "y = dataset.iloc[:, 2].values\n"
   ]
  },
  {
   "cell_type": "markdown",
   "metadata": {},
   "source": [
    "### set train data and test data ###"
   ]
  },
  {
   "cell_type": "code",
   "execution_count": 14,
   "metadata": {
    "collapsed": true
   },
   "outputs": [],
   "source": [
    "from sklearn.cross_validation import train_test_split\n",
    "x_train, x_test, y_train, y_test = train_test_split(x, y, test_size = 0.20, random_state = 0)\n"
   ]
  },
  {
   "cell_type": "code",
   "execution_count": 15,
   "metadata": {},
   "outputs": [
    {
     "data": {
      "text/plain": [
       "array([[0, 0, 0, ..., 0, 0, 0],\n",
       "       [0, 0, 0, ..., 0, 0, 0],\n",
       "       [0, 0, 0, ..., 0, 0, 0],\n",
       "       ..., \n",
       "       [0, 0, 0, ..., 0, 0, 0],\n",
       "       [0, 0, 0, ..., 0, 0, 0],\n",
       "       [0, 0, 0, ..., 0, 0, 0]], dtype=int64)"
      ]
     },
     "execution_count": 15,
     "metadata": {},
     "output_type": "execute_result"
    }
   ],
   "source": [
    "x_train"
   ]
  },
  {
   "cell_type": "markdown",
   "metadata": {},
   "source": [
    "### logistic regression ###"
   ]
  },
  {
   "cell_type": "code",
   "execution_count": 16,
   "metadata": {
    "collapsed": true
   },
   "outputs": [],
   "source": [
    "from sklearn.linear_model import LogisticRegression\n",
    "classifier = LogisticRegression()\n",
    "\n",
    "\n",
    "classifier.fit(x_train, y_train)\n",
    "y_pred = classifier.predict(x_test)\n",
    "\n",
    "from sklearn.metrics import confusion_matrix\n",
    "cm = confusion_matrix(y_test, y_pred)"
   ]
  },
  {
   "cell_type": "code",
   "execution_count": 17,
   "metadata": {},
   "outputs": [
    {
     "data": {
      "text/plain": [
       "array([[ 1,  1,  0,  1, 13],\n",
       "       [ 0,  1,  0,  0,  3],\n",
       "       [ 0,  0,  0,  0,  3],\n",
       "       [ 1,  3,  0,  1, 20],\n",
       "       [ 4,  4,  0,  7, 96]])"
      ]
     },
     "execution_count": 17,
     "metadata": {},
     "output_type": "execute_result"
    }
   ],
   "source": [
    "cm"
   ]
  },
  {
   "cell_type": "code",
   "execution_count": 18,
   "metadata": {
    "collapsed": true
   },
   "outputs": [],
   "source": [
    "accuracy_logistic = cm.trace()/cm.sum()"
   ]
  },
  {
   "cell_type": "code",
   "execution_count": 19,
   "metadata": {},
   "outputs": [
    {
     "data": {
      "text/plain": [
       "0.62264150943396224"
      ]
     },
     "execution_count": 19,
     "metadata": {},
     "output_type": "execute_result"
    }
   ],
   "source": [
    "accuracy_logistic"
   ]
  },
  {
   "cell_type": "code",
   "execution_count": 20,
   "metadata": {},
   "outputs": [
    {
     "data": {
      "image/png": "[encoded data removed]",
      "text/plain": [
       "<matplotlib.figure.Figure at 0x11b8a8d30>"
      ]
     },
     "metadata": {},
     "output_type": "display_data"
    }
   ],
   "source": [
    "plt.imshow(cm, interpolation = 'nearest')\n",
    "\n",
    "for i, j in itertools.product(range(cm.shape[0]), range(cm.shape[1])):\n",
    "    plt.text(j, i, cm[i, j],\n",
    "             horizontalalignment=\"center\",\n",
    "             color=\"white\")\n",
    "\n",
    "plt.ylabel('True label (Recall)')\n",
    "plt.xlabel('Predicted label (Precision)')\n",
    "plt.title('Logistic Reg | Confusion Matrix')\n",
    "plt.colorbar()\n",
    "plt.show()"
   ]
  },
  {
   "cell_type": "code",
   "execution_count": 21,
   "metadata": {},
   "outputs": [
    {
     "data": {
      "text/plain": [
       "GridSearchCV(cv=5, error_score='raise',\n",
       "       estimator=LogisticRegression(C=1.0, class_weight=None, dual=False, fit_intercept=True,\n",
       "          intercept_scaling=1, max_iter=100, multi_class='ovr', n_jobs=1,\n",
       "          penalty='l2', random_state=None, solver='liblinear', tol=0.0001,\n",
       "          verbose=0, warm_start=False),\n",
       "       fit_params=None, iid=True, n_jobs=1,\n",
       "       param_grid={'C': [0.001, 0.01, 0.1, 1, 10, 100, 1000]},\n",
       "       pre_dispatch='2*n_jobs', refit=True, return_train_score=True,\n",
       "       scoring=None, verbose=0)"
      ]
     },
     "execution_count": 21,
     "metadata": {},
     "output_type": "execute_result"
    }
   ],
   "source": [
    "param_grid = {'C': [0.001, 0.01, 0.1, 1, 10, 100, 1000]}\n",
    "\n",
    "grid = GridSearchCV(LogisticRegression(), param_grid, cv=5)\n",
    "grid.fit(x_train, y_train)"
   ]
  },
  {
   "cell_type": "code",
   "execution_count": 22,
   "metadata": {},
   "outputs": [
    {
     "name": "stdout",
     "output_type": "stream",
     "text": [
      "Best cross-validation score: 0.618\n",
      "Best parameters:  {'C': 0.001}\n"
     ]
    }
   ],
   "source": [
    "print(\"Best cross-validation score: {:.3f}\".format(grid.best_score_))\n",
    "print(\"Best parameters: \", grid.best_params_)\n"
   ]
  },
  {
   "cell_type": "code",
   "execution_count": 23,
   "metadata": {},
   "outputs": [
    {
     "name": "stdout",
     "output_type": "stream",
     "text": [
      "0.698\n"
     ]
    }
   ],
   "source": [
    "print(\"{:.3f}\".format(grid.score(x_test, y_test)))"
   ]
  },
  {
   "cell_type": "markdown",
   "metadata": {},
   "source": [
    "### random forest###"
   ]
  },
  {
   "cell_type": "code",
   "execution_count": 30,
   "metadata": {
    "collapsed": true
   },
   "outputs": [],
   "source": [
    "from sklearn.ensemble import RandomForestClassifier\n",
    "classifier = RandomForestClassifier()\n"
   ]
  },
  {
   "cell_type": "code",
   "execution_count": 33,
   "metadata": {
    "collapsed": true
   },
   "outputs": [],
   "source": [
    "classifier.fit(x_train, y_train)\n",
    "y_pred = classifier.predict(x_test)"
   ]
  },
  {
   "cell_type": "code",
   "execution_count": 34,
   "metadata": {
    "collapsed": true
   },
   "outputs": [],
   "source": [
    "from sklearn.metrics import confusion_matrix\n",
    "cm = confusion_matrix(y_test, y_pred)"
   ]
  },
  {
   "cell_type": "code",
   "execution_count": 35,
   "metadata": {},
   "outputs": [
    {
     "data": {
      "text/plain": [
       "array([[  0,   0,   0,   1,  15],\n",
       "       [  0,   0,   0,   1,   3],\n",
       "       [  0,   0,   0,   0,   3],\n",
       "       [  1,   1,   1,   0,  22],\n",
       "       [  2,   1,   1,   4, 103]])"
      ]
     },
     "execution_count": 35,
     "metadata": {},
     "output_type": "execute_result"
    }
   ],
   "source": [
    "cm"
   ]
  },
  {
   "cell_type": "code",
   "execution_count": 36,
   "metadata": {
    "collapsed": true
   },
   "outputs": [],
   "source": [
    "accuracy_random = cm.trace()/cm.sum()"
   ]
  },
  {
   "cell_type": "code",
   "execution_count": 37,
   "metadata": {},
   "outputs": [
    {
     "data": {
      "text/plain": [
       "0.64779874213836475"
      ]
     },
     "execution_count": 37,
     "metadata": {},
     "output_type": "execute_result"
    }
   ],
   "source": [
    "accuracy_random"
   ]
  },
  {
   "cell_type": "code",
   "execution_count": 38,
   "metadata": {},
   "outputs": [
    {
     "data": {
      "image/png": "[encoded data removed]",
      "text/plain": [
       "<matplotlib.figure.Figure at 0x1a21f6ef28>"
      ]
     },
     "metadata": {},
     "output_type": "display_data"
    }
   ],
   "source": [
    "plt.imshow(cm, interpolation = 'nearest')\n",
    "\n",
    "for i, j in itertools.product(range(cm.shape[0]), range(cm.shape[1])):\n",
    "    plt.text(j, i, cm[i, j],\n",
    "             horizontalalignment=\"center\",\n",
    "             color=\"white\")\n",
    "\n",
    "plt.ylabel('True label (Recall)')\n",
    "plt.xlabel('Predicted label (Precision)')\n",
    "plt.title('random forest | Confusion Matrix')\n",
    "plt.colorbar()\n",
    "plt.show()"
   ]
  },
  {
   "cell_type": "code",
   "execution_count": null,
   "metadata": {
    "collapsed": true
   },
   "outputs": [],
   "source": []
  }
 ],
 "metadata": {
  "kernelspec": {
   "display_name": "Python 3",
   "language": "python",
   "name": "python3"
  },
  "language_info": {
   "codemirror_mode": {
    "name": "ipython",
    "version": 3
   },
   "file_extension": ".py",
   "mimetype": "text/x-python",
   "name": "python",
   "nbconvert_exporter": "python",
   "pygments_lexer": "ipython3",
   "version": "3.6.2"
  }
 },
 "nbformat": 4,
 "nbformat_minor": 2
}
